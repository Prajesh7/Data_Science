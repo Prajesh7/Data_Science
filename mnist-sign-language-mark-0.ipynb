{
 "cells": [
  {
   "cell_type": "code",
   "execution_count": 1,
   "metadata": {
    "_cell_guid": "b1076dfc-b9ad-4769-8c92-a6c4dae69d19",
    "_uuid": "8f2839f25d086af736a60e9eeb907d3b93b6e0e5"
   },
   "outputs": [],
   "source": [
    "# This Python 3 environment comes with many helpful analytics libraries installed\n",
    "# It is defined by the kaggle/python Docker image: https://github.com/kaggle/docker-python\n",
    "# For example, here's several helpful packages to load\n",
    "# You can write up to 5GB to the current directory (/kaggle/working/) that gets preserved as output when you create a version using \"Save & Run All\" \n",
    "# You can also write temporary files to /kaggle/temp/, but they won't be saved outside of the current session"
   ]
  },
  {
   "cell_type": "code",
   "execution_count": 2,
   "metadata": {
    "_cell_guid": "79c7e3d0-c299-4dcb-8224-4455121ee9b0",
    "_uuid": "d629ff2d2480ee46fbb7e2d37f6b5fab8052498a"
   },
   "outputs": [],
   "source": [
    "import numpy as np\n",
    "import pandas as pd\n",
    "import tensorflow as tf\n",
    "import tensorflow.keras as keras\n",
    "from tensorflow.keras import layers\n",
    "\n",
    "import matplotlib.pyplot as plt\n",
    "\n",
    "from sklearn.model_selection import train_test_split\n",
    "from sklearn.metrics import confusion_matrix\n",
    "import random"
   ]
  },
  {
   "cell_type": "code",
   "execution_count": 3,
   "metadata": {},
   "outputs": [],
   "source": [
    "### import data\n",
    "train_data = pd.read_csv('../input/sign-language-mnist/sign_mnist_train/sign_mnist_train.csv', engine = 'python')\n",
    "test_data = pd.read_csv('../input/sign-language-mnist/sign_mnist_test/sign_mnist_test.csv', engine = 'python')\n",
    "# train_data.head()"
   ]
  },
  {
   "cell_type": "code",
   "execution_count": 4,
   "metadata": {},
   "outputs": [
    {
     "data": {
      "text/html": [
       "<div>\n",
       "<style scoped>\n",
       "    .dataframe tbody tr th:only-of-type {\n",
       "        vertical-align: middle;\n",
       "    }\n",
       "\n",
       "    .dataframe tbody tr th {\n",
       "        vertical-align: top;\n",
       "    }\n",
       "\n",
       "    .dataframe thead th {\n",
       "        text-align: right;\n",
       "    }\n",
       "</style>\n",
       "<table border=\"1\" class=\"dataframe\">\n",
       "  <thead>\n",
       "    <tr style=\"text-align: right;\">\n",
       "      <th></th>\n",
       "      <th>label</th>\n",
       "      <th>pixel1</th>\n",
       "      <th>pixel2</th>\n",
       "      <th>pixel3</th>\n",
       "      <th>pixel4</th>\n",
       "      <th>pixel5</th>\n",
       "      <th>pixel6</th>\n",
       "      <th>pixel7</th>\n",
       "      <th>pixel8</th>\n",
       "      <th>pixel9</th>\n",
       "      <th>...</th>\n",
       "      <th>pixel775</th>\n",
       "      <th>pixel776</th>\n",
       "      <th>pixel777</th>\n",
       "      <th>pixel778</th>\n",
       "      <th>pixel779</th>\n",
       "      <th>pixel780</th>\n",
       "      <th>pixel781</th>\n",
       "      <th>pixel782</th>\n",
       "      <th>pixel783</th>\n",
       "      <th>pixel784</th>\n",
       "    </tr>\n",
       "  </thead>\n",
       "  <tbody>\n",
       "    <tr>\n",
       "      <th>count</th>\n",
       "      <td>7172.000000</td>\n",
       "      <td>7172.000000</td>\n",
       "      <td>7172.000000</td>\n",
       "      <td>7172.000000</td>\n",
       "      <td>7172.000000</td>\n",
       "      <td>7172.000000</td>\n",
       "      <td>7172.000000</td>\n",
       "      <td>7172.000000</td>\n",
       "      <td>7172.000000</td>\n",
       "      <td>7172.000000</td>\n",
       "      <td>...</td>\n",
       "      <td>7172.000000</td>\n",
       "      <td>7172.000000</td>\n",
       "      <td>7172.000000</td>\n",
       "      <td>7172.000000</td>\n",
       "      <td>7172.000000</td>\n",
       "      <td>7172.000000</td>\n",
       "      <td>7172.000000</td>\n",
       "      <td>7172.000000</td>\n",
       "      <td>7172.000000</td>\n",
       "      <td>7172.000000</td>\n",
       "    </tr>\n",
       "    <tr>\n",
       "      <th>mean</th>\n",
       "      <td>11.247351</td>\n",
       "      <td>147.532627</td>\n",
       "      <td>150.445761</td>\n",
       "      <td>153.324317</td>\n",
       "      <td>155.663413</td>\n",
       "      <td>158.169688</td>\n",
       "      <td>160.790853</td>\n",
       "      <td>162.282766</td>\n",
       "      <td>163.649191</td>\n",
       "      <td>165.589515</td>\n",
       "      <td>...</td>\n",
       "      <td>138.546570</td>\n",
       "      <td>145.539598</td>\n",
       "      <td>150.744980</td>\n",
       "      <td>155.638873</td>\n",
       "      <td>158.893196</td>\n",
       "      <td>159.648494</td>\n",
       "      <td>158.162019</td>\n",
       "      <td>157.672755</td>\n",
       "      <td>156.664250</td>\n",
       "      <td>154.776771</td>\n",
       "    </tr>\n",
       "    <tr>\n",
       "      <th>std</th>\n",
       "      <td>7.446712</td>\n",
       "      <td>43.593144</td>\n",
       "      <td>41.867838</td>\n",
       "      <td>40.442728</td>\n",
       "      <td>39.354776</td>\n",
       "      <td>37.749637</td>\n",
       "      <td>36.090916</td>\n",
       "      <td>36.212636</td>\n",
       "      <td>35.885378</td>\n",
       "      <td>33.721876</td>\n",
       "      <td>...</td>\n",
       "      <td>64.501665</td>\n",
       "      <td>65.132370</td>\n",
       "      <td>65.760539</td>\n",
       "      <td>65.565147</td>\n",
       "      <td>65.200300</td>\n",
       "      <td>65.499368</td>\n",
       "      <td>66.493576</td>\n",
       "      <td>66.009690</td>\n",
       "      <td>67.202939</td>\n",
       "      <td>68.285148</td>\n",
       "    </tr>\n",
       "    <tr>\n",
       "      <th>min</th>\n",
       "      <td>0.000000</td>\n",
       "      <td>0.000000</td>\n",
       "      <td>0.000000</td>\n",
       "      <td>0.000000</td>\n",
       "      <td>0.000000</td>\n",
       "      <td>0.000000</td>\n",
       "      <td>10.000000</td>\n",
       "      <td>0.000000</td>\n",
       "      <td>0.000000</td>\n",
       "      <td>0.000000</td>\n",
       "      <td>...</td>\n",
       "      <td>0.000000</td>\n",
       "      <td>0.000000</td>\n",
       "      <td>0.000000</td>\n",
       "      <td>0.000000</td>\n",
       "      <td>0.000000</td>\n",
       "      <td>0.000000</td>\n",
       "      <td>0.000000</td>\n",
       "      <td>0.000000</td>\n",
       "      <td>0.000000</td>\n",
       "      <td>0.000000</td>\n",
       "    </tr>\n",
       "    <tr>\n",
       "      <th>25%</th>\n",
       "      <td>4.000000</td>\n",
       "      <td>122.000000</td>\n",
       "      <td>126.000000</td>\n",
       "      <td>130.000000</td>\n",
       "      <td>134.000000</td>\n",
       "      <td>137.000000</td>\n",
       "      <td>141.000000</td>\n",
       "      <td>144.000000</td>\n",
       "      <td>145.000000</td>\n",
       "      <td>147.000000</td>\n",
       "      <td>...</td>\n",
       "      <td>90.000000</td>\n",
       "      <td>95.000000</td>\n",
       "      <td>99.000000</td>\n",
       "      <td>105.000000</td>\n",
       "      <td>113.000000</td>\n",
       "      <td>113.750000</td>\n",
       "      <td>113.000000</td>\n",
       "      <td>115.000000</td>\n",
       "      <td>111.000000</td>\n",
       "      <td>106.750000</td>\n",
       "    </tr>\n",
       "    <tr>\n",
       "      <th>50%</th>\n",
       "      <td>11.000000</td>\n",
       "      <td>154.000000</td>\n",
       "      <td>157.000000</td>\n",
       "      <td>159.000000</td>\n",
       "      <td>161.000000</td>\n",
       "      <td>163.000000</td>\n",
       "      <td>165.000000</td>\n",
       "      <td>166.000000</td>\n",
       "      <td>168.000000</td>\n",
       "      <td>169.000000</td>\n",
       "      <td>...</td>\n",
       "      <td>137.000000</td>\n",
       "      <td>155.000000</td>\n",
       "      <td>168.000000</td>\n",
       "      <td>177.000000</td>\n",
       "      <td>181.000000</td>\n",
       "      <td>182.000000</td>\n",
       "      <td>181.000000</td>\n",
       "      <td>180.000000</td>\n",
       "      <td>180.000000</td>\n",
       "      <td>179.000000</td>\n",
       "    </tr>\n",
       "    <tr>\n",
       "      <th>75%</th>\n",
       "      <td>18.000000</td>\n",
       "      <td>178.000000</td>\n",
       "      <td>179.000000</td>\n",
       "      <td>181.000000</td>\n",
       "      <td>182.000000</td>\n",
       "      <td>184.000000</td>\n",
       "      <td>185.000000</td>\n",
       "      <td>186.000000</td>\n",
       "      <td>187.000000</td>\n",
       "      <td>187.000000</td>\n",
       "      <td>...</td>\n",
       "      <td>195.000000</td>\n",
       "      <td>200.000000</td>\n",
       "      <td>204.250000</td>\n",
       "      <td>207.000000</td>\n",
       "      <td>207.000000</td>\n",
       "      <td>208.000000</td>\n",
       "      <td>207.000000</td>\n",
       "      <td>205.000000</td>\n",
       "      <td>206.000000</td>\n",
       "      <td>204.000000</td>\n",
       "    </tr>\n",
       "    <tr>\n",
       "      <th>max</th>\n",
       "      <td>24.000000</td>\n",
       "      <td>255.000000</td>\n",
       "      <td>255.000000</td>\n",
       "      <td>255.000000</td>\n",
       "      <td>255.000000</td>\n",
       "      <td>255.000000</td>\n",
       "      <td>255.000000</td>\n",
       "      <td>255.000000</td>\n",
       "      <td>255.000000</td>\n",
       "      <td>255.000000</td>\n",
       "      <td>...</td>\n",
       "      <td>255.000000</td>\n",
       "      <td>255.000000</td>\n",
       "      <td>255.000000</td>\n",
       "      <td>255.000000</td>\n",
       "      <td>255.000000</td>\n",
       "      <td>255.000000</td>\n",
       "      <td>255.000000</td>\n",
       "      <td>255.000000</td>\n",
       "      <td>255.000000</td>\n",
       "      <td>255.000000</td>\n",
       "    </tr>\n",
       "  </tbody>\n",
       "</table>\n",
       "<p>8 rows × 785 columns</p>\n",
       "</div>"
      ],
      "text/plain": [
       "             label       pixel1       pixel2       pixel3       pixel4  \\\n",
       "count  7172.000000  7172.000000  7172.000000  7172.000000  7172.000000   \n",
       "mean     11.247351   147.532627   150.445761   153.324317   155.663413   \n",
       "std       7.446712    43.593144    41.867838    40.442728    39.354776   \n",
       "min       0.000000     0.000000     0.000000     0.000000     0.000000   \n",
       "25%       4.000000   122.000000   126.000000   130.000000   134.000000   \n",
       "50%      11.000000   154.000000   157.000000   159.000000   161.000000   \n",
       "75%      18.000000   178.000000   179.000000   181.000000   182.000000   \n",
       "max      24.000000   255.000000   255.000000   255.000000   255.000000   \n",
       "\n",
       "            pixel5       pixel6       pixel7       pixel8       pixel9  ...  \\\n",
       "count  7172.000000  7172.000000  7172.000000  7172.000000  7172.000000  ...   \n",
       "mean    158.169688   160.790853   162.282766   163.649191   165.589515  ...   \n",
       "std      37.749637    36.090916    36.212636    35.885378    33.721876  ...   \n",
       "min       0.000000    10.000000     0.000000     0.000000     0.000000  ...   \n",
       "25%     137.000000   141.000000   144.000000   145.000000   147.000000  ...   \n",
       "50%     163.000000   165.000000   166.000000   168.000000   169.000000  ...   \n",
       "75%     184.000000   185.000000   186.000000   187.000000   187.000000  ...   \n",
       "max     255.000000   255.000000   255.000000   255.000000   255.000000  ...   \n",
       "\n",
       "          pixel775     pixel776     pixel777     pixel778     pixel779  \\\n",
       "count  7172.000000  7172.000000  7172.000000  7172.000000  7172.000000   \n",
       "mean    138.546570   145.539598   150.744980   155.638873   158.893196   \n",
       "std      64.501665    65.132370    65.760539    65.565147    65.200300   \n",
       "min       0.000000     0.000000     0.000000     0.000000     0.000000   \n",
       "25%      90.000000    95.000000    99.000000   105.000000   113.000000   \n",
       "50%     137.000000   155.000000   168.000000   177.000000   181.000000   \n",
       "75%     195.000000   200.000000   204.250000   207.000000   207.000000   \n",
       "max     255.000000   255.000000   255.000000   255.000000   255.000000   \n",
       "\n",
       "          pixel780     pixel781     pixel782     pixel783     pixel784  \n",
       "count  7172.000000  7172.000000  7172.000000  7172.000000  7172.000000  \n",
       "mean    159.648494   158.162019   157.672755   156.664250   154.776771  \n",
       "std      65.499368    66.493576    66.009690    67.202939    68.285148  \n",
       "min       0.000000     0.000000     0.000000     0.000000     0.000000  \n",
       "25%     113.750000   113.000000   115.000000   111.000000   106.750000  \n",
       "50%     182.000000   181.000000   180.000000   180.000000   179.000000  \n",
       "75%     208.000000   207.000000   205.000000   206.000000   204.000000  \n",
       "max     255.000000   255.000000   255.000000   255.000000   255.000000  \n",
       "\n",
       "[8 rows x 785 columns]"
      ]
     },
     "execution_count": 4,
     "metadata": {},
     "output_type": "execute_result"
    }
   ],
   "source": [
    "# print(\"train shape\")\n",
    "# train_data.shape\n",
    "# print(\"test shape\")\n",
    "test_data.describe()"
   ]
  },
  {
   "cell_type": "code",
   "execution_count": 5,
   "metadata": {},
   "outputs": [],
   "source": [
    "### Data assignment and normalization\n",
    "image_size = 28*28\n",
    "X_train = train_data.drop('label', axis =1).copy()\n",
    "X_test = test_data.drop('label', axis = 1).copy()\n",
    "\n",
    "Y_train = train_data['label'].copy()\n",
    "\n",
    "X_train = X_train / 255.0\n",
    "X_test = X_test / 255.0\n",
    "\n",
    "# X_train.head()\n",
    "# Y_train.head()"
   ]
  },
  {
   "cell_type": "code",
   "execution_count": 6,
   "metadata": {},
   "outputs": [
    {
     "data": {
      "text/plain": [
       "<bound method NDFrame.describe of         pixel1    pixel2    pixel3    pixel4    pixel5    pixel6    pixel7  \\\n",
       "0     0.584314  0.584314  0.588235  0.588235  0.588235  0.592157  0.592157   \n",
       "1     0.494118  0.501961  0.513725  0.517647  0.521569  0.525490  0.529412   \n",
       "2     0.333333  0.345098  0.360784  0.376471  0.411765  0.482353  0.529412   \n",
       "3     0.796078  0.803922  0.811765  0.807843  0.811765  0.819608  0.823529   \n",
       "4     0.737255  0.749020  0.756863  0.764706  0.780392  0.788235  0.792157   \n",
       "...        ...       ...       ...       ...       ...       ...       ...   \n",
       "7167  0.529412  0.466667  0.423529  0.400000  0.411765  0.388235  0.239216   \n",
       "7168  0.615686  0.623529  0.631373  0.643137  0.650980  0.650980  0.670588   \n",
       "7169  0.745098  0.749020  0.745098  0.749020  0.745098  0.745098  0.752941   \n",
       "7170  0.788235  0.803922  0.815686  0.819608  0.839216  0.847059  0.854902   \n",
       "7171  0.678431  0.682353  0.678431  0.682353  0.678431  0.678431  0.686275   \n",
       "\n",
       "        pixel8    pixel9   pixel10  ...  pixel775  pixel776  pixel777  \\\n",
       "0     0.588235  0.592157  0.596078  ...  0.541176  0.580392  0.498039   \n",
       "1     0.529412  0.533333  0.541176  ...  0.184314  0.407843  0.760784   \n",
       "2     0.560784  0.576471  0.596078  ...  0.266667  0.650980  0.949020   \n",
       "3     0.819608  0.823529  0.819608  ...  0.603922  0.972549  0.968627   \n",
       "4     0.796078  0.796078  0.796078  ...  0.101961  0.156863  0.250980   \n",
       "...        ...       ...       ...  ...       ...       ...       ...   \n",
       "7167  0.403922  0.474510  0.521569  ...  0.423529  0.439216  0.454902   \n",
       "7168  0.682353  0.686275  0.690196  ...  0.835294  0.835294  0.835294   \n",
       "7169  0.752941  0.749020  0.752941  ...  0.847059  0.843137  0.835294   \n",
       "7170  0.874510  0.886275  0.898039  ...  0.439216  0.662745  1.000000   \n",
       "7171  0.686275  0.682353  0.686275  ...  0.788235  0.784314  0.772549   \n",
       "\n",
       "      pixel778  pixel779  pixel780  pixel781  pixel782  pixel783  pixel784  \n",
       "0     0.349020  0.321569  0.376471  0.415686  0.439216  0.470588  0.419608  \n",
       "1     0.717647  0.729412  0.721569  0.721569  0.721569  0.713725  0.705882  \n",
       "2     0.890196  0.901961  0.890196  0.886275  0.882353  0.878431  0.870588  \n",
       "3     0.972549  0.992157  0.925490  0.901961  0.941176  0.992157  1.000000  \n",
       "4     0.188235  0.113725  0.180392  0.192157  0.180392  0.180392  0.207843  \n",
       "...        ...       ...       ...       ...       ...       ...       ...  \n",
       "7167  0.447059  0.462745  0.705882  0.721569  0.690196  0.654902  0.639216  \n",
       "7168  0.839216  0.835294  0.827451  0.823529  0.823529  0.819608  0.815686  \n",
       "7169  0.839216  0.839216  0.835294  0.823529  0.827451  0.819608  0.815686  \n",
       "7170  1.000000  0.929412  0.443137  0.356863  0.262745  0.274510  0.247059  \n",
       "7171  0.776471  0.776471  0.772549  0.764706  0.764706  0.756863  0.752941  \n",
       "\n",
       "[7172 rows x 784 columns]>"
      ]
     },
     "execution_count": 6,
     "metadata": {},
     "output_type": "execute_result"
    }
   ],
   "source": [
    "X_test.describe"
   ]
  },
  {
   "cell_type": "code",
   "execution_count": 7,
   "metadata": {},
   "outputs": [
    {
     "data": {
      "image/png": "[encoded data removed]",
      "text/plain": [
       "<Figure size 144x144 with 1 Axes>"
      ]
     },
     "metadata": {
      "needs_background": "light"
     },
     "output_type": "display_data"
    }
   ],
   "source": [
    "### Showing Images\n",
    "fig, ax = plt.subplots(figsize = (2, 2))\n",
    "trash = np.asarray(X_train.iloc[[3544],:]).reshape(28, 28)\n",
    "trash.shape\n",
    "plt.imshow(trash)\n",
    "plt.title(\"Sample Image\")\n",
    "plt.show()\n"
   ]
  },
  {
   "cell_type": "code",
   "execution_count": 8,
   "metadata": {},
   "outputs": [],
   "source": [
    "X_train = X_train.values.reshape(-1, 28, 28, 1)\n",
    "X_test = X_test.values.reshape(-1, 28, 28, 1)"
   ]
  },
  {
   "cell_type": "code",
   "execution_count": 9,
   "metadata": {},
   "outputs": [],
   "source": [
    "### data spliting and one-hot encoding\n",
    "num_class = len(Y_train.unique())+1\n",
    "X_train, X_val, Y_train, Y_val = train_test_split(X_train, Y_train, test_size = 0.2)\n",
    "Y_train = keras.utils.to_categorical(Y_train, num_classes = num_class)\n",
    "Y_val = keras.utils.to_categorical(Y_val, num_classes = num_class)"
   ]
  },
  {
   "cell_type": "code",
   "execution_count": 10,
   "metadata": {},
   "outputs": [],
   "source": [
    "def CNN():\n",
    "    model = keras.Sequential()\n",
    "    model.add(layers.Conv2D(32, (3, 3), (1, 1), padding ='valid', input_shape = (28, 28, 1), activation = 'relu'))\n",
    "    model.add(layers.Conv2D(32, (3, 3), (1, 1), padding = 'same', activation = 'relu'))\n",
    "    model.add(layers.BatchNormalization())\n",
    "    model.add(layers.MaxPooling2D((2, 2), (2, 2), padding = 'valid'))\n",
    "    model.add(layers.Dropout(0.5))\n",
    "    model.add(layers.Conv2D(64, (3, 3), (1, 1), padding ='valid', activation = 'relu'))\n",
    "    model.add(layers.Conv2D(64, (3, 3), (1, 1), padding = 'same', activation = 'relu'))\n",
    "    model.add(layers.BatchNormalization())\n",
    "    model.add(layers.MaxPooling2D((2, 2), (2, 2), padding = 'valid'))\n",
    "    model.add(layers.Dropout(0.5))\n",
    "    model.add(layers.Flatten())\n",
    "    model.add(layers.Dense(100, activation = 'relu'))\n",
    "    model.add(layers.Dense(num_class, activation = 'softmax'))\n",
    "    \n",
    "    return model\n",
    "    \n",
    "    \n",
    "    "
   ]
  },
  {
   "cell_type": "code",
   "execution_count": 11,
   "metadata": {},
   "outputs": [
    {
     "name": "stdout",
     "output_type": "stream",
     "text": [
      "Model: \"sequential\"\n",
      "_________________________________________________________________\n",
      "Layer (type)                 Output Shape              Param #   \n",
      "=================================================================\n",
      "conv2d (Conv2D)              (None, 26, 26, 32)        320       \n",
      "_________________________________________________________________\n",
      "conv2d_1 (Conv2D)            (None, 26, 26, 32)        9248      \n",
      "_________________________________________________________________\n",
      "batch_normalization (BatchNo (None, 26, 26, 32)        128       \n",
      "_________________________________________________________________\n",
      "max_pooling2d (MaxPooling2D) (None, 13, 13, 32)        0         \n",
      "_________________________________________________________________\n",
      "dropout (Dropout)            (None, 13, 13, 32)        0         \n",
      "_________________________________________________________________\n",
      "conv2d_2 (Conv2D)            (None, 11, 11, 64)        18496     \n",
      "_________________________________________________________________\n",
      "conv2d_3 (Conv2D)            (None, 11, 11, 64)        36928     \n",
      "_________________________________________________________________\n",
      "batch_normalization_1 (Batch (None, 11, 11, 64)        256       \n",
      "_________________________________________________________________\n",
      "max_pooling2d_1 (MaxPooling2 (None, 5, 5, 64)          0         \n",
      "_________________________________________________________________\n",
      "dropout_1 (Dropout)          (None, 5, 5, 64)          0         \n",
      "_________________________________________________________________\n",
      "flatten (Flatten)            (None, 1600)              0         \n",
      "_________________________________________________________________\n",
      "dense (Dense)                (None, 100)               160100    \n",
      "_________________________________________________________________\n",
      "dense_1 (Dense)              (None, 25)                2525      \n",
      "=================================================================\n",
      "Total params: 228,001\n",
      "Trainable params: 227,809\n",
      "Non-trainable params: 192\n",
      "_________________________________________________________________\n"
     ]
    }
   ],
   "source": [
    "model = CNN()\n",
    "model.compile(optimizer = 'adam', loss = 'CategoricalCrossentropy', metrics = ['accuracy'])\n",
    "model.summary()"
   ]
  },
  {
   "cell_type": "code",
   "execution_count": 12,
   "metadata": {},
   "outputs": [
    {
     "name": "stdout",
     "output_type": "stream",
     "text": [
      "Epoch 1/3\n",
      "879/879 [==============================] - 43s 49ms/step - loss: 0.8664 - accuracy: 0.7334 - val_loss: 0.0678 - val_accuracy: 0.9803\n",
      "Epoch 2/3\n",
      "879/879 [==============================] - 42s 47ms/step - loss: 0.0945 - accuracy: 0.9661 - val_loss: 0.0423 - val_accuracy: 0.9843\n",
      "Epoch 3/3\n",
      "879/879 [==============================] - 43s 49ms/step - loss: 0.0516 - accuracy: 0.9822 - val_loss: 0.0036 - val_accuracy: 0.9991\n"
     ]
    }
   ],
   "source": [
    "history = model.fit(X_train, Y_train, \n",
    "                  validation_data = (X_val, Y_val),\n",
    "                   batch_size = 25, epochs = 3)"
   ]
  },
  {
   "cell_type": "code",
   "execution_count": 13,
   "metadata": {},
   "outputs": [
    {
     "data": {
      "image/png": "[encoded data removed]",
      "text/plain": [
       "<Figure size 432x288 with 2 Axes>"
      ]
     },
     "metadata": {
      "needs_background": "light"
     },
     "output_type": "display_data"
    }
   ],
   "source": [
    "plt.subplot(1, 2, 1)\n",
    "plt.plot(history.history['accuracy'], label = 'accuracy')\n",
    "plt.plot(history.history['val_accuracy'], label = 'val_accuracy')\n",
    "plt.xlabel(\"Epochs\")\n",
    "plt.ylabel(\"Accuracy\")\n",
    "plt.legend(loc = 'lower right')\n",
    "\n",
    "plt.subplot(1, 2, 2)\n",
    "plt.plot(history.history['loss'], label = 'loss')\n",
    "plt.plot(history.history['val_loss'], label = 'val_loss')\n",
    "plt.xlabel(\"Epochs\")\n",
    "plt.ylabel(\"Loss\")\n",
    "plt.legend(loc = 'lower right')\n",
    "plt.tight_layout()\n",
    "plt.show()"
   ]
  },
  {
   "cell_type": "code",
   "execution_count": 14,
   "metadata": {},
   "outputs": [],
   "source": [
    "# from sklearn.metrics import mean_absolute_error\n",
    "# val_preds = model.predict(X_val)\n",
    "# val_mae = mean_absolute_error(val_preds, Y_val)\n",
    "# val_mae"
   ]
  },
  {
   "cell_type": "code",
   "execution_count": 15,
   "metadata": {},
   "outputs": [],
   "source": [
    "def predict(model, X, imgs):\n",
    "    y_test = test_data['label'].copy()\n",
    "    s = int(np.sqrt(imgs))\n",
    "    fig, ax = plt.subplots(s, s, sharex=True, sharey=True, figsize=(15, 15))\n",
    "    ax = ax.flatten()\n",
    "    preds = model.predict(X[:imgs])\n",
    "    for i in range(imgs):\n",
    "        y_pred = np.argmax(preds[i])\n",
    "        img = X[i].reshape(28, 28)\n",
    "        ax[i].imshow(img, cmap='Greys', interpolation='nearest')\n",
    "        ax[i].set_title(f'p: {y_test[i]}')"
   ]
  },
  {
   "cell_type": "code",
   "execution_count": 16,
   "metadata": {},
   "outputs": [
    {
     "data": {
      "image/png": "[encoded data removed]",
      "text/plain": [
       "<Figure size 1080x1080 with 25 Axes>"
      ]
     },
     "metadata": {
      "needs_background": "light"
     },
     "output_type": "display_data"
    }
   ],
   "source": [
    "predict(model, X_test, 25)"
   ]
  },
  {
   "cell_type": "code",
   "execution_count": 17,
   "metadata": {
    "collapsed": true
   },
   "outputs": [
    {
     "data": {
      "text/plain": [
       "0      6\n",
       "1      5\n",
       "2     10\n",
       "3      0\n",
       "4      3\n",
       "5     21\n",
       "6     10\n",
       "7     14\n",
       "8      3\n",
       "9      7\n",
       "10     8\n",
       "11     8\n",
       "12    21\n",
       "13    12\n",
       "14     7\n",
       "15     4\n",
       "16    22\n",
       "17     0\n",
       "18     7\n",
       "19     7\n",
       "20     2\n",
       "21     0\n",
       "22    21\n",
       "23     4\n",
       "24    10\n",
       "Name: label, dtype: int64"
      ]
     },
     "execution_count": 17,
     "metadata": {},
     "output_type": "execute_result"
    }
   ],
   "source": [
    "test_Y = test_data['label'].copy()\n",
    "check = test_Y[:25]\n",
    "check"
   ]
  },
  {
   "cell_type": "code",
   "execution_count": 18,
   "metadata": {},
   "outputs": [],
   "source": [
    "test_preds = model.predict(X_test)\n",
    "test_preds = np.argmax(test_preds, axis = 1)\n",
    "name = \"Prajesh Sanghvi\"\n",
    "file_name = name + \"_MNIST_sign_language.csv\"\n",
    "test_preds = pd.Series(test_preds, name = 'label')\n",
    "submission = pd.concat([pd.Series(range(1,7173), name = \"ImageID\"), test_preds], axis = 1)\n",
    "letters = ['A', 'B', 'C', 'D', 'E', 'F', 'G', 'H', 'I', 'K', 'L', 'M', 'N', 'O', 'P', 'Q', 'R', 'S', 'T',\n",
    "          'U', 'V', 'W', 'X', 'Y']\n",
    "matching = []\n",
    "test_match = np.asarray(test_preds)\n",
    "for i in range(len(test_match)):\n",
    "    if test_match[i] < 9:\n",
    "        matching.append(letters[test_match[i]])\n",
    "    else:\n",
    "        matching.append(letters[test_match[i]-1])\n",
    "match_series = pd.Series(matching, name = 'letters')\n",
    "final_sub = pd.concat([submission, match_series], axis = 1)\n",
    "final_sub.to_csv(file_name, index = False)"
   ]
  }
 ],
 "metadata": {
  "kernelspec": {
   "display_name": "Python 3",
   "language": "python",
   "name": "python3"
  },
  "language_info": {
   "codemirror_mode": {
    "name": "ipython",
    "version": 3
   },
   "file_extension": ".py",
   "mimetype": "text/x-python",
   "name": "python",
   "nbconvert_exporter": "python",
   "pygments_lexer": "ipython3",
   "version": "3.7.6"
  }
 },
 "nbformat": 4,
 "nbformat_minor": 4
}
