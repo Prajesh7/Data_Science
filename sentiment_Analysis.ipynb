{
  "nbformat": 4,
  "nbformat_minor": 0,
  "metadata": {
    "colab": {
      "name": "Hackathon_AV_sentiment_Analysis",
      "provenance": [],
      "collapsed_sections": [],
      "authorship_tag": "ABX9TyO+HR4bPi7xP7IUWRITB+0g",
      "include_colab_link": true
    },
    "kernelspec": {
      "name": "python3",
      "display_name": "Python 3"
    }
  },
  "cells": [
    {
      "cell_type": "markdown",
      "metadata": {
        "id": "view-in-github",
        "colab_type": "text"
      },
      "source": [
        "<a href=\"https://colab.research.google.com/github/Prajesh7/Data_Science/blob/master/sentiment_Analysis.ipynb\" target=\"_parent\"><img src=\"https://colab.research.google.com/assets/colab-badge.svg\" alt=\"Open In Colab\"/></a>"
      ]
    },
    {
      "cell_type": "code",
      "metadata": {
        "id": "91UK8uMEtlB2",
        "colab_type": "code",
        "colab": {}
      },
      "source": [
        "import numpy as np\n",
        "import pandas as pd\n",
        "import matplotlib.pyplot as plt\n",
        "from textblob import TextBlob "
      ],
      "execution_count": null,
      "outputs": []
    },
    {
      "cell_type": "code",
      "metadata": {
        "id": "lsQa5Qjut-3q",
        "colab_type": "code",
        "colab": {}
      },
      "source": [
        "xtrain = pd.read_csv(\"/content/train_data_av.csv\")\n",
        "xtest = pd.read_csv(\"/content/test_data_av.csv\")\n",
        "ytrain = xtrain[\"label\"]\n",
        "xtrain = xtrain.drop(['id'], axis = 1)\n",
        "# xtrain.columns."
      ],
      "execution_count": null,
      "outputs": []
    },
    {
      "cell_type": "code",
      "metadata": {
        "id": "TyW6pWV51so1",
        "colab_type": "code",
        "colab": {}
      },
      "source": [
        "xtrain.head()"
      ],
      "execution_count": null,
      "outputs": []
    },
    {
      "cell_type": "code",
      "metadata": {
        "id": "QuabYPgDpSHq",
        "colab_type": "code",
        "colab": {}
      },
      "source": [
        "# xtrain[1,1].str.replace(r'\\W',\" \")"
      ],
      "execution_count": null,
      "outputs": []
    },
    {
      "cell_type": "code",
      "metadata": {
        "id": "shL4yhJa2zMr",
        "colab_type": "code",
        "colab": {}
      },
      "source": [
        "xval = xtrain[int(len(xtrain)*0.8):]\n",
        "yval = ytrain[int(len(ytrain)*0.8):]"
      ],
      "execution_count": null,
      "outputs": []
    },
    {
      "cell_type": "code",
      "metadata": {
        "id": "lzFuYEnzrXrn",
        "colab_type": "code",
        "colab": {}
      },
      "source": [
        "xtrain_list = [xtrain.iloc[i,1] for i in range(xtrain.shape[0])]"
      ],
      "execution_count": null,
      "outputs": []
    },
    {
      "cell_type": "code",
      "metadata": {
        "id": "oGpVF7r6qlwH",
        "colab_type": "code",
        "colab": {}
      },
      "source": [
        "raw_preds = []\n",
        "len(xtrain_list)"
      ],
      "execution_count": null,
      "outputs": []
    },
    {
      "cell_type": "code",
      "metadata": {
        "id": "70i2KsJqs8RK",
        "colab_type": "code",
        "colab": {}
      },
      "source": [
        "# xtrain_list_modded = list(map(lambda st: str.replace(st, \"#\", \"\"), xtrain_list))\n",
        "for i in range(len(xtrain_list)):\n",
        "  analysis = TextBlob(xtrain_list[i])\n",
        "  raw_preds.append(analysis.sentiment.polarity)\n",
        "len(raw_preds)"
      ],
      "execution_count": null,
      "outputs": []
    },
    {
      "cell_type": "code",
      "metadata": {
        "id": "C9jQw6Vmnkiy",
        "colab_type": "code",
        "colab": {}
      },
      "source": [
        "# analysis.sentiment.polarity"
      ],
      "execution_count": null,
      "outputs": []
    },
    {
      "cell_type": "code",
      "metadata": {
        "id": "tWpSLa1Bns2v",
        "colab_type": "code",
        "colab": {}
      },
      "source": [
        "xtrain_list[4]"
      ],
      "execution_count": null,
      "outputs": []
    },
    {
      "cell_type": "code",
      "metadata": {
        "id": "SX5rrWNmnw8h",
        "colab_type": "code",
        "colab": {}
      },
      "source": [
        "ytrain[:10]"
      ],
      "execution_count": null,
      "outputs": []
    },
    {
      "cell_type": "code",
      "metadata": {
        "id": "YExGVg1Zplir",
        "colab_type": "code",
        "colab": {}
      },
      "source": [
        "raw_preds[:10]"
      ],
      "execution_count": null,
      "outputs": []
    },
    {
      "cell_type": "code",
      "metadata": {
        "id": "7a1Ut4izq74H",
        "colab_type": "code",
        "colab": {}
      },
      "source": [
        "len(raw_preds)"
      ],
      "execution_count": null,
      "outputs": []
    },
    {
      "cell_type": "code",
      "metadata": {
        "id": "VhCl_PJZrAhC",
        "colab_type": "code",
        "colab": {}
      },
      "source": [
        "xtest.head()"
      ],
      "execution_count": null,
      "outputs": []
    },
    {
      "cell_type": "code",
      "metadata": {
        "id": "LXjPrJLgr3Kr",
        "colab_type": "code",
        "colab": {}
      },
      "source": [
        "xtest_list = [xtest.iloc[i,1] for i in range(xtest.shape[0])]"
      ],
      "execution_count": null,
      "outputs": []
    },
    {
      "cell_type": "code",
      "metadata": {
        "id": "jZ330J18s31e",
        "colab_type": "code",
        "colab": {}
      },
      "source": [
        "xtest_list[:10]"
      ],
      "execution_count": null,
      "outputs": []
    },
    {
      "cell_type": "code",
      "metadata": {
        "id": "3BSgVLR5s6ZE",
        "colab_type": "code",
        "colab": {}
      },
      "source": [
        "final_file = []"
      ],
      "execution_count": null,
      "outputs": []
    },
    {
      "cell_type": "code",
      "metadata": {
        "id": "4tOiHTv8tDkC",
        "colab_type": "code",
        "colab": {}
      },
      "source": [
        "final_file = xtest['id']"
      ],
      "execution_count": null,
      "outputs": []
    },
    {
      "cell_type": "code",
      "metadata": {
        "id": "mLLUq21itJUB",
        "colab_type": "code",
        "colab": {}
      },
      "source": [
        "final_file[:5]"
      ],
      "execution_count": null,
      "outputs": []
    },
    {
      "cell_type": "code",
      "metadata": {
        "id": "ggrRAjCyuONm",
        "colab_type": "code",
        "colab": {}
      },
      "source": [
        "len(xtest_list)"
      ],
      "execution_count": null,
      "outputs": []
    },
    {
      "cell_type": "code",
      "metadata": {
        "id": "DN_CbHB6t418",
        "colab_type": "code",
        "colab": {}
      },
      "source": [
        "final_preds = []\n",
        "test_raw_preds = []"
      ],
      "execution_count": null,
      "outputs": []
    },
    {
      "cell_type": "code",
      "metadata": {
        "id": "5r83wl3XtMeu",
        "colab_type": "code",
        "colab": {}
      },
      "source": [
        "for j in range(len(xtest_list)):\n",
        "  analysis = TextBlob(xtest_list[j])\n",
        "  test_raw_preds.append(analysis.sentiment.polarity)\n",
        "  if test_raw_preds[j] <= 0 :\n",
        "    final_preds.append(1)\n",
        "  else:\n",
        "    final_preds.append(0)\n",
        "len(final_preds)"
      ],
      "execution_count": null,
      "outputs": []
    },
    {
      "cell_type": "code",
      "metadata": {
        "id": "F9s6jX44uGFi",
        "colab_type": "code",
        "colab": {}
      },
      "source": [
        "test_raw_preds[:10]"
      ],
      "execution_count": null,
      "outputs": []
    },
    {
      "cell_type": "code",
      "metadata": {
        "id": "qxahyeU6um3Q",
        "colab_type": "code",
        "colab": {}
      },
      "source": [
        "final_preds_col = np.asarray(final_preds)"
      ],
      "execution_count": null,
      "outputs": []
    },
    {
      "cell_type": "code",
      "metadata": {
        "id": "ts7yeZFcvIo1",
        "colab_type": "code",
        "colab": {}
      },
      "source": [
        "# final_preds.clear()\n",
        "# test_raw_preds.clear()"
      ],
      "execution_count": null,
      "outputs": []
    },
    {
      "cell_type": "code",
      "metadata": {
        "id": "CRLACaxWvORf",
        "colab_type": "code",
        "colab": {}
      },
      "source": [
        "final_preds_col.transpose"
      ],
      "execution_count": null,
      "outputs": []
    },
    {
      "cell_type": "code",
      "metadata": {
        "id": "WKy9QOB7v74U",
        "colab_type": "code",
        "colab": {}
      },
      "source": [
        "final_preds_col[:5]"
      ],
      "execution_count": null,
      "outputs": []
    },
    {
      "cell_type": "code",
      "metadata": {
        "id": "C12DhJlEwD2v",
        "colab_type": "code",
        "colab": {}
      },
      "source": [
        "final_preds.shape"
      ],
      "execution_count": null,
      "outputs": []
    },
    {
      "cell_type": "code",
      "metadata": {
        "id": "FRnMLuqTwMA6",
        "colab_type": "code",
        "colab": {}
      },
      "source": [
        "final_file.shape"
      ],
      "execution_count": null,
      "outputs": []
    },
    {
      "cell_type": "code",
      "metadata": {
        "id": "xyIBtf7gwplT",
        "colab_type": "code",
        "colab": {}
      },
      "source": [
        "final_doc = pd.DataFrame (final_file,columns=['id'])"
      ],
      "execution_count": null,
      "outputs": []
    },
    {
      "cell_type": "code",
      "metadata": {
        "id": "G-QeTIO9w_Wm",
        "colab_type": "code",
        "colab": {}
      },
      "source": [
        "final_doc.shape"
      ],
      "execution_count": null,
      "outputs": []
    },
    {
      "cell_type": "code",
      "metadata": {
        "id": "987l6eKZxBHi",
        "colab_type": "code",
        "colab": {}
      },
      "source": [
        "final_doc['label'] = final_preds"
      ],
      "execution_count": null,
      "outputs": []
    },
    {
      "cell_type": "code",
      "metadata": {
        "id": "FAJ5rjYrzSp1",
        "colab_type": "code",
        "colab": {}
      },
      "source": [
        "final_doc[:10]"
      ],
      "execution_count": null,
      "outputs": []
    },
    {
      "cell_type": "code",
      "metadata": {
        "id": "kc0vcjWOzU7Z",
        "colab_type": "code",
        "colab": {}
      },
      "source": [
        "final_doc.to_csv('final_submission.csv', index = False)"
      ],
      "execution_count": null,
      "outputs": []
    }
  ]
}